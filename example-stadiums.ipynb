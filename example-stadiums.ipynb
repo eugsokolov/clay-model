{
 "cells": [
  {
   "cell_type": "code",
   "execution_count": null,
   "metadata": {},
   "outputs": [],
   "source": [
    "import numpy as np\n",
    "from sklearn import decomposition, svm\n",
    "from matplotlib import pyplot as plt\n",
    "\n",
    "from main import get_embeddings\n",
    "from torch.utils.data import DataLoader\n"
   ]
  },
  {
   "cell_type": "code",
   "execution_count": null,
   "metadata": {},
   "outputs": [],
   "source": [
    "get_embeddings(40.667808, -74.063452, \"2022-01-01\", \"2022-01-03\")"
   ]
  },
  {
   "cell_type": "code",
   "execution_count": null,
   "metadata": {},
   "outputs": [],
   "source": [
    "points_true = [  # stadium\n",
    "  (51.45576189740324, -0.34101157597801884),\n",
    "  (51.555997989240666, -0.2800146693353107), \n",
    "  (51.481657256405754, -0.19071106803328688),\n",
    "  (53.46276505480401, -2.2911469832733213),\n",
    "  (51.55492197276949, -0.10837834474336895)\n",
    "]\n",
    "\n",
    "points_false = [  # parks\n",
    "  (51.509726724102165, -0.16431432775703508),\n",
    "  (51.505942185188594, -0.17765388975199076),\n",
    "  (51.53050581740778, -0.1531204067394265),\n",
    "  (51.53733131004048, -0.038022943072186524),\n",
    "]\n",
    "\n",
    "points_test = [\n",
    "  (51.538526217382234, -0.01625981008911321), # stadium\n",
    "  (52.239603606778324, 21.046021829807653), # stadium\n",
    "  (51.564101793728085, -0.16598854545362213), # park\n",
    "  (51.55775528574248, 0.05150102398763338), # park\n",
    "]\n",
    "\n",
    "\"\"\"\n",
    "\n",
    "nyc_tennis_courts = [\n",
    "  (40.721742, -73.954551), # 7\n",
    "  (40.716006, -73.936375), # 2\n",
    "  (40.690549, -73.975471), # 6\n",
    "  (40.689823, -73.999991), # 2\n",
    "  (40.683636, -73.972244), # 2\n",
    "  (40.680305, -73.928017), # 4\n",
    "  (40.683585, -73.888442), # 4\n",
    "  (40.683937, -73.887713), # 4\n",
    "  (40.768417, -73.943442), # 6\n",
    "  (40.761025, -73.894467), # 2\n",
    "  (40.776046, -73.924727), # 4\n",
    "  (40.775763, -73.924510), # 4\n",
    "  (40.775475, -73.924287), # 4\n",
    "]\n",
    "nyc_not_tennis_court = [\n",
    "  (40.631173, -73.990512),\n",
    "  (40.617278, -73.995161),\n",
    "  (40.627687, -74.016759),\n",
    "  (40.628424, -74.040643),\n",
    "  (40.636053, -74.039432),\n",
    "  (40.652933, -74.019090),\n",
    "  (40.653229, -73.992678),\n",
    "  (40.653229, -73.992678),\n",
    "  (40.693113, -74.001909),\n",
    "  (40.704957, -73.984639),\n",
    "  (40.703770, -73.952255),\n",
    "  (40.706509, -73.947252), # soccer field\n",
    "  (40.636454, -73.846851),\n",
    "]\n",
    "sf_points = [\n",
    "  (37.760997, -122.426817), # tennis\n",
    "  (37.770148, -122.459013), # tennis\n",
    "  (37.756706, -122.487113), # tennis\n",
    "  (37.760790, -122.512281), # no tennis\n",
    "  (37.786376, -122.504517), # no tennis\n",
    "  (37.802297, -122.438926), # no tennis\n",
    "]\n",
    "\"\"\""
   ]
  },
  {
   "cell_type": "code",
   "execution_count": null,
   "metadata": {},
   "outputs": [],
   "source": [
    "def get_embeddings_many(\n",
    "    latlons, start_date, end_date,\n",
    "    size=256,\n",
    "    model=None\n",
    "):\n",
    "    return [get_embeddings(lat, lon, start_date, end_date, size=size) for lat, lon in latlons]\n"
   ]
  },
  {
   "cell_type": "code",
   "execution_count": null,
   "metadata": {},
   "outputs": [],
   "source": [
    "PATCH_SIZE = 32\n",
    "\n",
    "embeddings_true, stack_true = zip(*get_embeddings_many(points_true, \"2022-07-01\", \"2022-07-05\", size=PATCH_SIZE))\n",
    "embeddings_false, stack_false = zip(*get_embeddings_many(points_false, \"2023-03-01\", \"2023-03-05\", size=PATCH_SIZE))\n"
   ]
  },
  {
   "cell_type": "code",
   "execution_count": null,
   "metadata": {},
   "outputs": [],
   "source": [
    "x = embeddings_true + embeddings_false\n",
    "x = [i.flatten() for i in x]\n",
    "\n",
    "y = [1] * len(embeddings_true) + [0] * len(embeddings_false)\n"
   ]
  },
  {
   "cell_type": "code",
   "execution_count": null,
   "metadata": {},
   "outputs": [],
   "source": [
    "clf = svm.SVC()\n",
    "clf.fit(x, y)"
   ]
  },
  {
   "cell_type": "code",
   "execution_count": null,
   "metadata": {},
   "outputs": [],
   "source": [
    "embeddings_test, stack_test = zip(*get_embeddings_many(points_test, \"2022-08-01\", \"2022-08-30\", size=PATCH_SIZE))\n",
    "z = [i.flatten() for i in embeddings_test]\n"
   ]
  },
  {
   "cell_type": "code",
   "execution_count": null,
   "metadata": {},
   "outputs": [],
   "source": [
    "clf.predict(z)"
   ]
  },
  {
   "cell_type": "code",
   "execution_count": null,
   "metadata": {},
   "outputs": [],
   "source": [
    "for stack in stack_false:\n",
    "    stack.sel(band=[\"red\", \"green\", \"blue\"]).plot.imshow(\n",
    "        row=\"time\", rgb=\"band\", vmin=0, vmax=2000, col_wrap=6\n",
    "    )"
   ]
  }
 ],
 "metadata": {
  "language_info": {
   "name": "python"
  }
 },
 "nbformat": 4,
 "nbformat_minor": 2
}
