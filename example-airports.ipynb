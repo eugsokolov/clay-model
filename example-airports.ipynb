{
 "cells": [
  {
   "cell_type": "code",
   "execution_count": null,
   "metadata": {},
   "outputs": [],
   "source": [
    "import numpy as np\n",
    "import folium\n",
    "from sklearn import svm\n",
    "\n",
    "import warnings\n",
    "warnings.filterwarnings('ignore')"
   ]
  },
  {
   "cell_type": "code",
   "execution_count": null,
   "metadata": {},
   "outputs": [],
   "source": [
    "import requests\n",
    "import numpy as np\n",
    "import pickle\n",
    "import base64\n",
    "\n",
    "server_url = \"https://8094-01j03cpsnxgzf6zqczh86561ch.cloudspaces.litng.ai/predict\"\n",
    "\n",
    "\n",
    "def get_embeddings(lat, lon, start_date, end_date):\n",
    "    \"\"\"\n",
    "    Get embeddings from the hosted model provided by GreenLens\n",
    "    \"\"\"\n",
    "    response = requests.post(\n",
    "        server_url,\n",
    "        json={\n",
    "            \"lat\": lat,\n",
    "            \"lon\":  lon,\n",
    "            \"startdate\": start_date,\n",
    "            \"enddate\": end_date,\n",
    "            \"size\": 256,  # embeddings can take any size from 8-256\n",
    "            \"whoami\": \"yc-collab\",\n",
    "        },\n",
    "    )\n",
    "    if response.status_code == 200:\n",
    "        base64_encoded_array = response.json()[\"output\"]\n",
    "        pickled_array = base64.b64decode(base64_encoded_array)\n",
    "        embeddings = pickle.loads(pickled_array)\n",
    "        return embeddings\n",
    "    elif response.status_code == 401:\n",
    "        raise ValueError(response.content)\n",
    "    else:\n",
    "        print(\n",
    "            \"Failed to get response from the server, status code:\", response.status_code\n",
    "        )\n",
    "\n",
    "def get_embeddings_many(latlons, start_date, end_date):\n",
    "    return [get_embeddings(lat, lon, start_date, end_date) for lat, lon in latlons]\n"
   ]
  },
  {
   "cell_type": "code",
   "execution_count": null,
   "metadata": {},
   "outputs": [],
   "source": [
    "points_true = [  # airports\n",
    "  (40.776824, -73.873489),\n",
    "  (41.727228, -71.431166),\n",
    "  (40.696258, -74.172668),\n",
    "  (42.364862, -71.015806),\n",
    "  (38.853499, -77.039526),\n",
    "  (35.877937, -78.793928),\n",
    "]\n",
    "\n",
    "points_false = [  # not airpots\n",
    "  (31.743262, -87.594122),\n",
    "  (32.188877, -92.428149),\n",
    "  (31.978015, -102.747742),\n",
    "  (32.769798, -106.904086),\n",
    "  (34.426534, -119.705648),\n",
    "  (33.810461, -118.287952),\n",
    "  (37.760997, -122.426817),\n",
    "]\n",
    "\n",
    "points_test = [\n",
    "  (42.848886, -79.962231),\n",
    "  (41.862865, -80.894946),\n",
    "  (42.580044, -80.468506),\n",
    "  (41.411103, -81.842124),  # airport\n",
    "  (43.630819, -79.394762),  # airport\n",
    "]\n"
   ]
  },
  {
   "cell_type": "code",
   "execution_count": null,
   "metadata": {},
   "outputs": [],
   "source": [
    "embeddings_true = get_embeddings_many(points_true, \"2023-01-01\", \"2023-01-10\")\n",
    "embeddings_false = get_embeddings_many(points_false, \"2023-06-01\", \"2023-10-30\")\n",
    "\n",
    "embeddings_test = get_embeddings_many(points_test, \"2023-06-01\", \"2023-09-30\")"
   ]
  },
  {
   "cell_type": "code",
   "execution_count": null,
   "metadata": {},
   "outputs": [],
   "source": [
    "x = [i.flatten() for i in embeddings_true + embeddings_false]\n",
    "y = [1] * len(embeddings_true) + [0] * len(embeddings_false)\n",
    "\n",
    "z = [i.flatten() for i in embeddings_test]\n",
    "\n",
    "clf = svm.SVC()\n",
    "clf.fit(x, y)"
   ]
  },
  {
   "cell_type": "code",
   "execution_count": null,
   "metadata": {},
   "outputs": [],
   "source": [
    "prediction = clf.predict(z)\n",
    "negative_points = [points_test[index] for index, val in enumerate(prediction) if val == 0]\n",
    "positive_points = [points_test[index] for index, val in enumerate(prediction) if val == 1]"
   ]
  },
  {
   "cell_type": "code",
   "execution_count": null,
   "metadata": {},
   "outputs": [],
   "source": [
    "def plot_points_on_map(positive_points, negative_points):\n",
    "    \"\"\"\n",
    "    Plots a list of points on a map using folium.\n",
    "    \n",
    "    Parameters:\n",
    "    points (list of tuples): A list of (latitude, longitude) points.\n",
    "    \n",
    "    Returns:\n",
    "    folium.Map: The folium Map object with the plotted points.\n",
    "    \"\"\"\n",
    "    points = positive_points + negative_points\n",
    "    # Check if the points list is empty\n",
    "    if not points:\n",
    "        raise ValueError(\"The points list is empty.\")\n",
    "\n",
    "    # Calculate the average latitude and longitude to center the map\n",
    "    avg_lat = sum(lat for lat, lon in points) / len(points)\n",
    "    avg_lon = sum(lon for lat, lon in points) / len(points)\n",
    "    \n",
    "    # Create a folium map centered around the average coordinates\n",
    "    map_center = [avg_lat, avg_lon]\n",
    "    folium_map = folium.Map(location=map_center, zoom_start=8)\n",
    "\n",
    "    # Add points to the map\n",
    "    for lat, lon in positive_points:\n",
    "        folium.Marker(location=[lat, lon], icon=folium.Icon(color=\"blue\")).add_to(folium_map)\n",
    "    for lat, lon in negative_points:\n",
    "        folium.Marker(location=[lat, lon], icon=folium.Icon(color=\"red\")).add_to(folium_map)\n",
    "    \n",
    "    return folium_map"
   ]
  },
  {
   "cell_type": "code",
   "execution_count": null,
   "metadata": {},
   "outputs": [],
   "source": [
    "plot_points_on_map(positive_points, negative_points)"
   ]
  },
  {
   "cell_type": "code",
   "execution_count": null,
   "metadata": {},
   "outputs": [],
   "source": []
  }
 ],
 "metadata": {
  "language_info": {
   "name": "python"
  }
 },
 "nbformat": 4,
 "nbformat_minor": 2
}
